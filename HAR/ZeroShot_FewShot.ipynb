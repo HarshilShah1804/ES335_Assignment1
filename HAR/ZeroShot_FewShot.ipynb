{
 "cells": [
  {
   "cell_type": "markdown",
   "metadata": {},
   "source": [
    "# Notebook to demonstrate Zero shot and Few shot Learning"
   ]
  },
  {
   "cell_type": "code",
   "execution_count": 1,
   "metadata": {},
   "outputs": [],
   "source": [
    "import json\n",
    "import pandas as pd \n",
    "from langchain_groq.chat_models import ChatGroq\n",
    "import numpy as np"
   ]
  },
  {
   "cell_type": "code",
   "execution_count": 2,
   "metadata": {},
   "outputs": [],
   "source": [
    "with open('secrets.json') as f:\n",
    "    secrets = json.load(f)"
   ]
  },
  {
   "cell_type": "code",
   "execution_count": 3,
   "metadata": {},
   "outputs": [],
   "source": [
    "# Groq API and Models \n",
    "Groq_Token = secrets[\"API_KEY\"]  # Do not share this key with anyone\n",
    "\n",
    "groq_models = {\"llama3-70b\": \"llama3-70b-8192\", \"mixtral\": \"mixtral-8x7b-32768\", \"gemma-7b\": \"gemma-7b-it\",\"llama3.1-70b\":\"llama-3.1-70b-versatile\",\"llama3-8b\":\"llama3-8b-8192\",\"llama3.1-8b\":\"llama-3.1-8b-instant\",\"gemma-9b\":\"gemma2-9b-it\"}"
   ]
  },
  {
   "cell_type": "code",
   "execution_count": 4,
   "metadata": {},
   "outputs": [],
   "source": [
    "import os\n",
    "train_data = os.path.join('./Combined/Train')\n",
    "test_data = os.path.join('./Combined/Test')\n",
    "activities = ['LAYING', 'SITTING', 'STANDING','WALKING','WALKING_DOWNSTAIRS','WALKING_UPSTAIRS']\n",
    "x_train=[]\n",
    "y_train=[]\n",
    "x_test=[]\n",
    "y_test=[]\n",
    "for activity in activities:\n",
    "    folder = os.path.join(train_data,activity)\n",
    "    data = os.listdir(folder)\n",
    "    # print(len(data))\n",
    "    for csv in data:\n",
    "        df=pd.read_csv(os.path.join(train_data,activity,csv),header=0)\n",
    "        x_train.append(df.values[:500])\n",
    "        y_train.append(activity)\n",
    "        \n",
    "for activity in activities:\n",
    "    folder = os.path.join(test_data,activity)\n",
    "    data = os.listdir(folder)\n",
    "    # print(len(data))\n",
    "    for csv in data:\n",
    "        df=pd.read_csv(os.path.join(test_data,activity,csv),header=0)\n",
    "        x_test.append(df.values[:500])\n",
    "        y_test.append(activity)\n",
    "x_test=np.array(x_test)\n",
    "y_test=np.array(y_test)\n",
    "x_train=np.array(x_train)\n",
    "y_train=np.array(y_train)"
   ]
  },
  {
   "cell_type": "code",
   "execution_count": 5,
   "metadata": {},
   "outputs": [],
   "source": [
    "total_acceleration_test = x_test[:,:,0]**2 + x_test[:,:,1]**2 + x_test[:,:,2]**2\n",
    "total_acceleration_train = x_train[:,:,0]**2 + x_train[:,:,1]**2 + x_train[:,:,2]**2"
   ]
  },
  {
   "cell_type": "code",
   "execution_count": 6,
   "metadata": {},
   "outputs": [],
   "source": [
    "import tsfel\n",
    "from tsfel.feature_extraction.features import calc_mean, calc_var, pk_pk_distance,mean_abs_deviation,autocorr,auc"
   ]
  },
  {
   "cell_type": "code",
   "execution_count": 7,
   "metadata": {},
   "outputs": [],
   "source": [
    "def extract_features(data):\n",
    "    tsfel_features=[]\n",
    "    for i in range(len(data)):\n",
    "        mean = calc_mean(data[i])\n",
    "        var = calc_var(data[i])\n",
    "        dist = pk_pk_distance(data[i])\n",
    "        mad = mean_abs_deviation(data[i])\n",
    "        corr = autocorr(data[i])\n",
    "        auc_ = auc(data[i],50)\n",
    "        tsfel_features.append([mean,var,dist,mad,corr,auc_])\n",
    "    return tsfel_features"
   ]
  },
  {
   "cell_type": "code",
   "execution_count": 8,
   "metadata": {},
   "outputs": [],
   "source": [
    "tsfel_features_train=np.array(extract_features(total_acceleration_train))\n",
    "tsfel_features_test=np.array(extract_features(total_acceleration_test))"
   ]
  },
  {
   "cell_type": "code",
   "execution_count": 11,
   "metadata": {},
   "outputs": [
    {
     "name": "stdout",
     "output_type": "stream",
     "text": [
      "(126, 6)\n",
      "(54, 6)\n"
     ]
    }
   ],
   "source": [
    "print(tsfel_features_train.shape)\n",
    "print(tsfel_features_test.shape)"
   ]
  },
  {
   "cell_type": "markdown",
   "metadata": {},
   "source": [
    "**NOTE : DO NOT SHARE THE API KEY WITH ANYONE. DO NOT COMMIT THE API KEY TO GITHUB.**\n",
    "\n",
    "Always do a sanity check before committing the code to github. If the key is found in the code, you will be penalized with a 0.5 marks deduction."
   ]
  },
  {
   "cell_type": "markdown",
   "metadata": {},
   "source": [
    "# Zero Shot "
   ]
  },
  {
   "cell_type": "code",
   "execution_count": 6,
   "metadata": {},
   "outputs": [
    {
     "name": "stdout",
     "output_type": "stream",
     "text": [
      "Sentiment label: Neutral\n",
      "\n",
      "Explanation: The sentence expresses mixed sentiments. The words \"amazing\" and \"happy\" convey a positive sentiment, indicating satisfaction with the product quality and customer service. However, the phrase \"delivery was delayed\" expresses a negative sentiment, indicating dissatisfaction with the delivery experience. Overall, the positive and negative sentiments balance each other out, resulting in a neutral sentiment label.\n"
     ]
    }
   ],
   "source": [
    "# Statement \n",
    "sentence = \"The product quality is amazing but the delivery was delayed. However I am happy with the customer service.\"\n",
    "\n",
    "# System Prompts \n",
    "query = f\"\"\"\n",
    "* You are a sentiment analysis model. \n",
    "* Your task is to analyze the sentiment expressed in the given text and classify it as 'positive', 'negative', or 'neutral'. \n",
    "* Provide the sentiment label and, if necessary, a brief explanation of your reasoning.\n",
    "\n",
    "Sentence: {sentence}\n",
    "\"\"\" \n",
    "\n",
    "# To use Groq LLMs \n",
    "model_name = \"llama3-70b\" # We can choose any model from the groq_models dictionary\n",
    "llm = ChatGroq(model=groq_models[model_name], api_key=Groq_Token, temperature=0)\n",
    "answer = llm.invoke(query)\n",
    "\n",
    "print(answer.content)"
   ]
  },
  {
   "cell_type": "markdown",
   "metadata": {},
   "source": [
    "# Few Shot"
   ]
  },
  {
   "cell_type": "code",
   "execution_count": 7,
   "metadata": {},
   "outputs": [
    {
     "name": "stdout",
     "output_type": "stream",
     "text": [
      "Sentiment: Positive\n",
      "\n",
      "Explanation: Although the sentence mentions a negative aspect (\"the delivery was delayed\"), the positive sentiments (\"The product quality is amazing\" and \"I am happy with the customer service\") outweigh the negative one, resulting in an overall positive sentiment. The use of the word \"amazing\" and \"happy\" also indicates a strong positive emotion, which contributes to the positive sentiment classification.\n"
     ]
    }
   ],
   "source": [
    "# Statement \n",
    "sentence = \"The product quality is amazing but the delivery was delayed. However I am happy with the customer service.\"\n",
    "\n",
    "# System Prompts \n",
    "query = f\"\"\"\n",
    "* You are a sentiment analysis model. \n",
    "* Your task is to analyze the sentiment expressed in the given text and classify it as 'positive', 'negative', or 'neutral'. \n",
    "* Provide the sentiment label and, if necessary, a brief explanation of your reasoning.\n",
    "\n",
    "Here are few examples:\n",
    "1. Sentence: 'The customer service was excellent, and I received my order quickly.'\n",
    "Sentiment: Positive\n",
    "\n",
    "2. Sentence: 'The food was bland and the service was slow.'\n",
    "Sentiment: Negative\n",
    "\n",
    "3. Sentence: 'The product is okay, but it's not worth the price.'\n",
    "Sentiment: Neutral\n",
    "\n",
    "Sentence: {sentence}\n",
    "\"\"\" \n",
    "\n",
    "# To use Groq LLMs \n",
    "model_name = \"llama3-70b\" # We can choose any model from the groq_models dictionary\n",
    "llm = ChatGroq(model=groq_models[model_name], api_key=Groq_Token, temperature=0)\n",
    "answer = llm.invoke(query)\n",
    "\n",
    "print(answer.content)"
   ]
  },
  {
   "cell_type": "code",
   "execution_count": 12,
   "metadata": {},
   "outputs": [
    {
     "name": "stdout",
     "output_type": "stream",
     "text": [
      "Shape of Test Data:  54\n"
     ]
    }
   ],
   "source": [
    "print(\"Shape of Test Data: \",len(x_test))"
   ]
  },
  {
   "cell_type": "code",
   "execution_count": 14,
   "metadata": {},
   "outputs": [
    {
     "name": "stdout",
     "output_type": "stream",
     "text": [
      "STANDING 1\n",
      "STANDING 2\n",
      "STANDING 3\n",
      "STANDING 4\n",
      "STANDING 5\n",
      "STANDING 6\n",
      "STANDING 7\n",
      "STANDING 8\n",
      "STANDING 9\n",
      "STANDING 10\n",
      "STANDING 11\n",
      "STANDING 12\n",
      "STANDING 13\n",
      "STANDING 14\n",
      "STANDING 15\n",
      "STANDING 16\n",
      "STANDING 17\n",
      "STANDING 18\n",
      "STANDING 19\n",
      "STANDING 20\n",
      "STANDING 21\n",
      "STANDING 22\n",
      "STANDING 23\n",
      "STANDING 24\n",
      "STANDING 25\n",
      "STANDING 26\n",
      "STANDING 27\n",
      "STANDING 28\n",
      "STANDING 29\n",
      "STANDING 30\n",
      "STANDING 31\n",
      "STANDING 32\n",
      "STANDING 33\n",
      "STANDING 34\n",
      "STANDING 35\n",
      "STANDING 36\n",
      "STANDING 37\n",
      "STANDING 38\n",
      "STANDING 39\n",
      "STANDING 40\n",
      "STANDING 41\n",
      "STANDING 42\n",
      "STANDING 43\n",
      "STANDING 44\n",
      "STANDING 45\n",
      "STANDING 46\n",
      "STANDING 47\n",
      "STANDING 48\n",
      "STANDING 49\n",
      "STANDING 50\n",
      "STANDING 51\n",
      "STANDING 52\n",
      "STANDING 53\n",
      "STANDING 54\n"
     ]
    }
   ],
   "source": [
    "true=0\n",
    "for i in range(len(tsfel_features_test)):\n",
    "    data = tsfel_features_test[i]\n",
    "    query = f\"\"\"\n",
    "\n",
    "    * Don't give multiple lines output. Just output a single word.\n",
    "    * You are a human activity recognition model.\n",
    "    * Your task is to predict the activity based on the time series data of accelerometer of 10 seconds sampled at 50 Hz sampling rate.\n",
    "    * Give your response as just the activity label name from \"LAYING\", \"SITTING\", \"STANDING\", \"WALKING\", \"WALKING_DOWNSTAIRS\", \"WALKING_UPSTAIRS\".\n",
    "    \n",
    "    data = {data}\n",
    "    \"\"\"\n",
    "\n",
    "    model_name = \"llama3-70b\" \n",
    "    llm = ChatGroq(model=groq_models[model_name], api_key=Groq_Token, temperature=0)\n",
    "    answer = llm.invoke(query)\n",
    "    print(answer.content,i+1)\n",
    "    if answer.content == y_test[i]:\n",
    "        true+=1"
   ]
  },
  {
   "cell_type": "code",
   "execution_count": 16,
   "metadata": {},
   "outputs": [
    {
     "name": "stdout",
     "output_type": "stream",
     "text": [
      "Accuracy of Zero-Shot = 16.666666666666664%\n"
     ]
    }
   ],
   "source": [
    "accuracy = true/len(x_test)\n",
    "print(f\"Accuracy of Zero-Shot = {accuracy*100} %\")"
   ]
  },
  {
   "cell_type": "code",
   "execution_count": 17,
   "metadata": {},
   "outputs": [
    {
     "name": "stdout",
     "output_type": "stream",
     "text": [
      "(126, 500, 3)\n",
      "(54, 500, 3)\n"
     ]
    }
   ],
   "source": [
    "print(x_train.shape)\n",
    "print(x_test.shape)"
   ]
  },
  {
   "cell_type": "code",
   "execution_count": 9,
   "metadata": {},
   "outputs": [],
   "source": [
    "model_name = \"llama3-70b\"\n",
    "llm = ChatGroq(model=groq_models[model_name], api_key=Groq_Token, temperature=0)"
   ]
  },
  {
   "cell_type": "code",
   "execution_count": 19,
   "metadata": {},
   "outputs": [
    {
     "name": "stdout",
     "output_type": "stream",
     "text": [
      "['LAYING' 'LAYING' 'LAYING' 'LAYING' 'LAYING' 'LAYING' 'LAYING' 'LAYING'\n",
      " 'LAYING' 'LAYING' 'LAYING' 'LAYING' 'LAYING' 'LAYING' 'LAYING' 'LAYING'\n",
      " 'LAYING' 'LAYING' 'LAYING' 'LAYING' 'LAYING' 'SITTING' 'SITTING'\n",
      " 'SITTING' 'SITTING' 'SITTING' 'SITTING' 'SITTING' 'SITTING' 'SITTING'\n",
      " 'SITTING' 'SITTING' 'SITTING' 'SITTING' 'SITTING' 'SITTING' 'SITTING'\n",
      " 'SITTING' 'SITTING' 'SITTING' 'SITTING' 'SITTING' 'STANDING' 'STANDING'\n",
      " 'STANDING' 'STANDING' 'STANDING' 'STANDING' 'STANDING' 'STANDING'\n",
      " 'STANDING' 'STANDING' 'STANDING' 'STANDING' 'STANDING' 'STANDING'\n",
      " 'STANDING' 'STANDING' 'STANDING' 'STANDING' 'STANDING' 'STANDING'\n",
      " 'STANDING' 'WALKING' 'WALKING' 'WALKING' 'WALKING' 'WALKING' 'WALKING'\n",
      " 'WALKING' 'WALKING' 'WALKING' 'WALKING' 'WALKING' 'WALKING' 'WALKING'\n",
      " 'WALKING' 'WALKING' 'WALKING' 'WALKING' 'WALKING' 'WALKING' 'WALKING'\n",
      " 'WALKING' 'WALKING_DOWNSTAIRS' 'WALKING_DOWNSTAIRS' 'WALKING_DOWNSTAIRS'\n",
      " 'WALKING_DOWNSTAIRS' 'WALKING_DOWNSTAIRS' 'WALKING_DOWNSTAIRS'\n",
      " 'WALKING_DOWNSTAIRS' 'WALKING_DOWNSTAIRS' 'WALKING_DOWNSTAIRS'\n",
      " 'WALKING_DOWNSTAIRS' 'WALKING_DOWNSTAIRS' 'WALKING_DOWNSTAIRS'\n",
      " 'WALKING_DOWNSTAIRS' 'WALKING_DOWNSTAIRS' 'WALKING_DOWNSTAIRS'\n",
      " 'WALKING_DOWNSTAIRS' 'WALKING_DOWNSTAIRS' 'WALKING_DOWNSTAIRS'\n",
      " 'WALKING_DOWNSTAIRS' 'WALKING_DOWNSTAIRS' 'WALKING_DOWNSTAIRS'\n",
      " 'WALKING_UPSTAIRS' 'WALKING_UPSTAIRS' 'WALKING_UPSTAIRS'\n",
      " 'WALKING_UPSTAIRS' 'WALKING_UPSTAIRS' 'WALKING_UPSTAIRS'\n",
      " 'WALKING_UPSTAIRS' 'WALKING_UPSTAIRS' 'WALKING_UPSTAIRS'\n",
      " 'WALKING_UPSTAIRS' 'WALKING_UPSTAIRS' 'WALKING_UPSTAIRS'\n",
      " 'WALKING_UPSTAIRS' 'WALKING_UPSTAIRS' 'WALKING_UPSTAIRS'\n",
      " 'WALKING_UPSTAIRS' 'WALKING_UPSTAIRS' 'WALKING_UPSTAIRS'\n",
      " 'WALKING_UPSTAIRS' 'WALKING_UPSTAIRS' 'WALKING_UPSTAIRS']\n"
     ]
    }
   ],
   "source": [
    "print(y_train)"
   ]
  },
  {
   "cell_type": "code",
   "execution_count": 29,
   "metadata": {},
   "outputs": [],
   "source": [
    "responses=[]"
   ]
  },
  {
   "cell_type": "code",
   "execution_count": 11,
   "metadata": {},
   "outputs": [
    {
     "name": "stdout",
     "output_type": "stream",
     "text": [
      "0 LAYING 1\n",
      "1 LAYING 2\n",
      "2 LAYING 3\n",
      "3 LAYING 4\n",
      "4 SITTING 5\n",
      "5 SITTING 6\n",
      "6 LAYING 7\n",
      "7 LAYING 8\n",
      "8 LAYING 9\n",
      "9 LAYING 10\n",
      "10 SITTING 11\n",
      "11 LAYING 12\n",
      "12 LAYING 13\n",
      "13 STANDING 14\n",
      "14 SITTING 15\n",
      "15 LAYING 16\n",
      "16 LAYING 17\n",
      "17 SITTING 18\n",
      "18 STANDING 19\n",
      "19 STANDING 20\n",
      "20 STANDING 21\n",
      "21 STANDING 22\n",
      "22 STANDING 23\n",
      "23 STANDING 24\n",
      "24 STANDING 25\n",
      "25 STANDING 26\n",
      "26 SITTING 27\n",
      "27 WALKING 28\n",
      "28 WALKING 29\n",
      "29 WALKING 30\n",
      "30 WALKING 31\n",
      "31 WALKING 32\n",
      "32 WALKING 33\n",
      "33 WALKING 34\n",
      "34 WALKING 35\n",
      "35 WALKING 36\n",
      "36 WALKING 37\n",
      "37 WALKING 38\n",
      "38 WALKING 39\n",
      "39 WALKING 40\n",
      "40 WALKING 41\n",
      "41 WALKING 42\n",
      "42 WALKING 43\n",
      "43 WALKING 44\n",
      "44 WALKING 45\n",
      "45 WALKING 46\n",
      "46 WALKING 47\n",
      "47 WALKING 48\n",
      "48 WALKING 49\n",
      "49 WALKING 50\n",
      "50 WALKING 51\n",
      "51 WALKING 52\n",
      "52 WALKING 53\n",
      "53 WALKING 54\n"
     ]
    }
   ],
   "source": [
    "responses = []  # Initialize the list to store responses\n",
    "\n",
    "# Assuming there are 9 examples for each of the 6 activities\n",
    "activity_count = 6\n",
    "examples_per_activity = 1  # Number of examples to take per activity\n",
    "\n",
    "# Constructing the few-shot examples by taking one example from each activity\n",
    "few_shot_examples = \"\"\n",
    "for j in range(activity_count):\n",
    "    index1 = j * 9 \n",
    "    index2 = j*9+2\n",
    "    index3 = j*9 + 4\n",
    "    few_shot_examples += f\"\"\"\n",
    "    Train Example 1:\n",
    "    Features: {tsfel_features_train[index1]}\n",
    "    Label: {y_train[index1]}\n",
    "\n",
    "    Train Example 2:\n",
    "    Features: {tsfel_features_train[index2]}\n",
    "    Label: {y_train[index2]}\n",
    "\n",
    "    Train Example :\n",
    "    Features: {tsfel_features_train[index3]}\n",
    "    Label: {y_train[index3]}\n",
    "    \"\"\"\n",
    "\n",
    "# Loop over the test data\n",
    "for i in range(len(tsfel_features_test)):\n",
    "    query = f\"\"\"\n",
    "        * Your response should be a single word representing the activity label (e.g., 'WALKING').\n",
    "        * You are a human activity recognition model.\n",
    "        * Your task is to predict the activity label based on the given featurized time series data.\n",
    "        * Each data point has 6 features: mean, variance, peak-to-peak distance, mean absolute deviation, correlation, and area under the curve.\n",
    "        * The activities can be one of \"LAYING\", \"SITTING\", \"STANDING\", \"WALKING\", \"WALKING_DOWNSTAIRS\", or \"WALKING_UPSTAIRS\".\n",
    "        \n",
    "        \n",
    "        Here are some training examples:\n",
    "        {few_shot_examples}\n",
    "        \n",
    "        Now, given the test data below, predict the activity label:\n",
    "        \n",
    "        Test Data (Features): {tsfel_features_test[i]}\n",
    "    \"\"\"\n",
    "\n",
    "    # Invoke the language model with the query\n",
    "    answer = llm.invoke(query)\n",
    "    ans = answer.content.strip()  # Strip any extra whitespace\n",
    "    responses.append(ans)\n",
    "    print(i, ans, len(responses))\n"
   ]
  },
  {
   "cell_type": "code",
   "execution_count": 12,
   "metadata": {},
   "outputs": [],
   "source": [
    "from sklearn.metrics import confusion_matrix,accuracy_score,precision_score,recall_score,f1_score\n",
    "import seaborn as sns\n",
    "import matplotlib.pyplot as plt\n"
   ]
  },
  {
   "cell_type": "code",
   "execution_count": 13,
   "metadata": {},
   "outputs": [
    {
     "name": "stdout",
     "output_type": "stream",
     "text": [
      "Accuracy = 0.5\n",
      "Precision = 0.38425925925925924\n",
      "Recall = 0.5\n",
      "F1 Score = 0.40925925925925927\n"
     ]
    },
    {
     "name": "stderr",
     "output_type": "stream",
     "text": [
      "e:\\ES 335 -  Machine Learning\\es335-24-fall-assignment-1-master\\env\\Lib\\site-packages\\sklearn\\metrics\\_classification.py:1531: UndefinedMetricWarning: Precision is ill-defined and being set to 0.0 in labels with no predicted samples. Use `zero_division` parameter to control this behavior.\n",
      "  _warn_prf(average, modifier, f\"{metric.capitalize()} is\", len(result))\n"
     ]
    },
    {
     "data": {
      "image/png": "[encoded data removed]",
      "text/plain": [
       "<Figure size 500x400 with 2 Axes>"
      ]
     },
     "metadata": {},
     "output_type": "display_data"
    }
   ],
   "source": [
    "print(f\"Accuracy = {accuracy_score(y_test,responses)}\")\n",
    "print(f\"Precision = {precision_score(y_test,responses,average='weighted')}\")\n",
    "print(f\"Recall = {recall_score(y_test,responses,average='weighted')}\")\n",
    "print(f\"F1 Score = {f1_score(y_test,responses,average='weighted')}\")\n",
    "cm = confusion_matrix(y_test,responses)\n",
    "\n",
    "plt.figure(figsize=(5, 4))\n",
    "sns.heatmap(cm, annot=True, xticklabels=activities, yticklabels=activities, cmap='Blues')\n",
    "plt.title('Confusion Matrix')\n",
    "plt.xlabel('Predicted')\n",
    "plt.ylabel('Actual')\n",
    "plt.show()"
   ]
  },
  {
   "cell_type": "code",
   "execution_count": null,
   "metadata": {},
   "outputs": [],
   "source": []
  }
 ],
 "metadata": {
  "kernelspec": {
   "display_name": "Python 3",
   "language": "python",
   "name": "python3"
  },
  "language_info": {
   "codemirror_mode": {
    "name": "ipython",
    "version": 3
   },
   "file_extension": ".py",
   "mimetype": "text/x-python",
   "name": "python",
   "nbconvert_exporter": "python",
   "pygments_lexer": "ipython3",
   "version": "3.11.7"
  }
 },
 "nbformat": 4,
 "nbformat_minor": 2
}
