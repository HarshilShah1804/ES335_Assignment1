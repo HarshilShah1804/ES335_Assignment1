{
 "cells": [
  {
   "cell_type": "markdown",
   "metadata": {},
   "source": [
    "# Notebook to demonstrate Zero shot and Few shot Learning"
   ]
  },
  {
   "cell_type": "code",
   "execution_count": 4,
   "metadata": {},
   "outputs": [],
   "source": [
    "import json\n",
    "import pandas as pd \n",
    "from langchain_groq.chat_models import ChatGroq\n",
    "import numpy as np"
   ]
  },
  {
   "cell_type": "code",
   "execution_count": 5,
   "metadata": {},
   "outputs": [],
   "source": [
    "with open('secrets.json') as f:\n",
    "    secrets = json.load(f)"
   ]
  },
  {
   "cell_type": "code",
   "execution_count": 6,
   "metadata": {},
   "outputs": [],
   "source": [
    "# Groq API and Models \n",
    "Groq_Token = secrets[\"API_KEY\"]  # Do not share this key with anyone\n",
    "\n",
    "groq_models = {\"llama3-70b\": \"llama3-70b-8192\", \"mixtral\": \"mixtral-8x7b-32768\", \"gemma-7b\": \"gemma-7b-it\",\"llama3.1-70b\":\"llama-3.1-70b-versatile\",\"llama3-8b\":\"llama3-8b-8192\",\"llama3.1-8b\":\"llama-3.1-8b-instant\",\"gemma-9b\":\"gemma2-9b-it\"}"
   ]
  },
  {
   "cell_type": "code",
   "execution_count": 7,
   "metadata": {},
   "outputs": [],
   "source": [
    "import os\n",
    "train_data = os.path.join('./Combined/Train')\n",
    "test_data = os.path.join('./Combined/Test')\n",
    "activities = ['LAYING', 'SITTING', 'STANDING','WALKING','WALKING_DOWNSTAIRS','WALKING_UPSTAIRS']\n",
    "x_train=[]\n",
    "y_train=[]\n",
    "x_test=[]\n",
    "y_test=[]\n",
    "for activity in activities:\n",
    "    folder = os.path.join(train_data,activity)\n",
    "    data = os.listdir(folder)\n",
    "    # print(len(data))\n",
    "    for csv in data:\n",
    "        df=pd.read_csv(os.path.join(train_data,activity,csv),header=0)\n",
    "        x_train.append(df.values[:500])\n",
    "        y_train.append(activity)\n",
    "        \n",
    "for activity in activities:\n",
    "    folder = os.path.join(test_data,activity)\n",
    "    data = os.listdir(folder)\n",
    "    # print(len(data))\n",
    "    for csv in data:\n",
    "        df=pd.read_csv(os.path.join(test_data,activity,csv),header=0)\n",
    "        x_test.append(df.values[:500])\n",
    "        y_test.append(activity)\n",
    "x_test=np.array(x_test)\n",
    "y_test=np.array(y_test)\n",
    "x_train=np.array(x_train)\n",
    "y_train=np.array(y_train)"
   ]
  },
  {
   "cell_type": "code",
   "execution_count": 8,
   "metadata": {},
   "outputs": [],
   "source": [
    "total_acceleration_test = x_test[:,:,0]**2 + x_test[:,:,1]**2 + x_test[:,:,2]**2\n",
    "total_acceleration_train = x_train[:,:,0]**2 + x_train[:,:,1]**2 + x_train[:,:,2]**2"
   ]
  },
  {
   "cell_type": "code",
   "execution_count": 9,
   "metadata": {},
   "outputs": [],
   "source": [
    "import tsfel\n",
    "from tsfel.feature_extraction.features import calc_mean, calc_var, pk_pk_distance,mean_abs_deviation,autocorr,auc"
   ]
  },
  {
   "cell_type": "code",
   "execution_count": 10,
   "metadata": {},
   "outputs": [],
   "source": [
    "def extract_features(data):\n",
    "    tsfel_features=[]\n",
    "    for i in range(len(data)):\n",
    "        mean = calc_mean(data[i])\n",
    "        var = calc_var(data[i])\n",
    "        dist = pk_pk_distance(data[i])\n",
    "        mad = mean_abs_deviation(data[i])\n",
    "        corr = autocorr(data[i])\n",
    "        auc_ = auc(data[i],50)\n",
    "        tsfel_features.append([mean,var,dist,mad,corr,auc_])\n",
    "    return tsfel_features"
   ]
  },
  {
   "cell_type": "code",
   "execution_count": 11,
   "metadata": {},
   "outputs": [],
   "source": [
    "tsfel_features_train=np.array(extract_features(total_acceleration_train))\n",
    "tsfel_features_test=np.array(extract_features(total_acceleration_test))"
   ]
  },
  {
   "cell_type": "code",
   "execution_count": 12,
   "metadata": {},
   "outputs": [
    {
     "name": "stdout",
     "output_type": "stream",
     "text": [
      "Shape of Training Data: (126, 6)\n",
      "Shape of Test Data: (54, 6)\n"
     ]
    }
   ],
   "source": [
    "print(\"Shape of Training Data:\",tsfel_features_train.shape)\n",
    "print(\"Shape of Test Data:\", tsfel_features_test.shape)"
   ]
  },
  {
   "cell_type": "markdown",
   "metadata": {},
   "source": [
    "## Task 3, Question 1"
   ]
  },
  {
   "cell_type": "markdown",
   "metadata": {},
   "source": [
    "### Zero Shot Learning\n",
    "We have used TSFEL featurized data for testing the model."
   ]
  },
  {
   "cell_type": "code",
   "execution_count": 10,
   "metadata": {},
   "outputs": [
    {
     "name": "stdout",
     "output_type": "stream",
     "text": [
      "STANDING\n",
      "STANDING\n",
      "STANDING\n",
      "STANDING\n",
      "STANDING\n",
      "STANDING\n",
      "STANDING\n",
      "STANDING\n",
      "STANDING\n",
      "STANDING\n",
      "STANDING\n",
      "STANDING\n",
      "STANDING\n",
      "STANDING\n",
      "STANDING\n",
      "STANDING\n",
      "STANDING\n",
      "STANDING\n",
      "STANDING\n",
      "STANDING\n",
      "STANDING\n",
      "STANDING\n",
      "STANDING\n",
      "STANDING\n",
      "STANDING\n",
      "STANDING\n",
      "STANDING\n",
      "STANDING\n",
      "STANDING\n",
      "STANDING\n",
      "STANDING\n",
      "STANDING\n",
      "STANDING\n",
      "STANDING\n",
      "STANDING\n",
      "STANDING\n",
      "STANDING\n",
      "STANDING\n",
      "STANDING\n",
      "STANDING\n",
      "STANDING\n",
      "STANDING\n",
      "STANDING\n",
      "STANDING\n",
      "STANDING\n",
      "STANDING\n",
      "STANDING\n",
      "STANDING\n",
      "STANDING\n",
      "STANDING\n",
      "STANDING\n",
      "STANDING\n",
      "STANDING\n",
      "STANDING\n"
     ]
    }
   ],
   "source": [
    "true=0\n",
    "for i in range(len(tsfel_features_test)):\n",
    "    data = tsfel_features_test[i]\n",
    "    query = f\"\"\"\n",
    "\n",
    "    * Don't give multiple lines output. Just output a single word.\n",
    "    * You are a human activity recognition model.\n",
    "    * Your task is to predict the activity based on the time series data of accelerometer of 10 seconds sampled at 50 Hz sampling rate.\n",
    "    * Give your response as just the activity label name from \"LAYING\", \"SITTING\", \"STANDING\", \"WALKING\", \"WALKING_DOWNSTAIRS\", \"WALKING_UPSTAIRS\".\n",
    "    \n",
    "    data = {data}\n",
    "    \"\"\"\n",
    "\n",
    "    model_name = \"llama3-70b\" \n",
    "    llm = ChatGroq(model=groq_models[model_name], api_key=Groq_Token, temperature=0)\n",
    "    answer = llm.invoke(query)\n",
    "    print(answer.content)\n",
    "    if answer.content == y_test[i]:\n",
    "        true+=1"
   ]
  },
  {
   "cell_type": "code",
   "execution_count": 11,
   "metadata": {},
   "outputs": [
    {
     "name": "stdout",
     "output_type": "stream",
     "text": [
      "Accuracy of Zero-Shot = 16.666666666666664 %\n"
     ]
    }
   ],
   "source": [
    "accuracy = true/len(x_test)\n",
    "print(f\"Accuracy of Zero-Shot = {accuracy*100} %\")"
   ]
  },
  {
   "cell_type": "code",
   "execution_count": 13,
   "metadata": {},
   "outputs": [],
   "source": [
    "model_name = \"llama3-70b\"\n",
    "llm = ChatGroq(model=groq_models[model_name], api_key=Groq_Token, temperature=0)"
   ]
  },
  {
   "cell_type": "code",
   "execution_count": 13,
   "metadata": {},
   "outputs": [],
   "source": [
    "responses = []  # Initialize the list to store responses\n",
    "\n",
    "# Assuming there are 9 examples for each of the 6 activities\n",
    "activity_count = 6\n",
    "examples_per_activity = 1  # Number of examples to take per activity\n",
    "\n",
    "# Constructing the few-shot examples by taking one example from each activity\n",
    "few_shot_examples = \"\"\n",
    "for j in range(activity_count):\n",
    "    index1 = j * 9 \n",
    "    index2 = j*9+2\n",
    "    index3 = j*9 + 4\n",
    "    index4 = j*9 + 6\n",
    "    few_shot_examples += f\"\"\"\n",
    "    Train Example 1:\n",
    "    Features: {tsfel_features_train[index1]}\n",
    "    Label: {y_train[index1]}\n",
    "\n",
    "    Train Example 2:\n",
    "    Features: {tsfel_features_train[index2]}\n",
    "    Label: {y_train[index2]}\n",
    "\n",
    "    Train Example :\n",
    "    Features: {tsfel_features_train[index3]}\n",
    "    Label: {y_train[index3]}\n",
    "\n",
    "    Train Example:\n",
    "    Features: {tsfel_features_train[index4]}\n",
    "    Label: {y_train[index4]}\n",
    "    \"\"\"\n",
    "\n",
    "# Loop over the test data\n",
    "for i in range(len(tsfel_features_test)):\n",
    "    query = f\"\"\"\n",
    "        * Your response should be a single word representing the activity label (e.g., 'WALKING').\n",
    "        * You are a human activity recognition model.\n",
    "        * Your task is to predict the activity label based on the given featurized time series data.\n",
    "        * Each data point has 6 features: mean, variance, peak-to-peak distance, mean absolute deviation, correlation, and area under the curve.\n",
    "        * The activities can be one of \"LAYING\", \"SITTING\", \"STANDING\", \"WALKING\", \"WALKING_DOWNSTAIRS\", or \"WALKING_UPSTAIRS\".\n",
    "        \n",
    "        \n",
    "        Here are some training examples:\n",
    "        {few_shot_examples}\n",
    "        \n",
    "        Now, given the test data below, predict the activity label:\n",
    "        \n",
    "        Test Data (Features): {tsfel_features_test[i]}\n",
    "    \"\"\"\n",
    "\n",
    "    # Invoke the language model with the query\n",
    "    answer = llm.invoke(query)\n",
    "    ans = answer.content\n",
    "    responses.append(ans)\n"
   ]
  },
  {
   "cell_type": "code",
   "execution_count": 14,
   "metadata": {},
   "outputs": [],
   "source": [
    "from sklearn.metrics import confusion_matrix,accuracy_score,precision_score,recall_score,f1_score\n",
    "import seaborn as sns\n",
    "import matplotlib.pyplot as plt\n"
   ]
  },
  {
   "cell_type": "code",
   "execution_count": 15,
   "metadata": {},
   "outputs": [
    {
     "name": "stdout",
     "output_type": "stream",
     "text": [
      "Accuracy = 0.5370370370370371\n",
      "Precision = 0.42083333333333334\n",
      "Recall = 0.5370370370370371\n",
      "F1 Score = 0.45037839697282417\n"
     ]
    },
    {
     "name": "stderr",
     "output_type": "stream",
     "text": [
      "e:\\ES 335 -  Machine Learning\\es335-24-fall-assignment-1-master\\env\\Lib\\site-packages\\sklearn\\metrics\\_classification.py:1531: UndefinedMetricWarning: Precision is ill-defined and being set to 0.0 in labels with no predicted samples. Use `zero_division` parameter to control this behavior.\n",
      "  _warn_prf(average, modifier, f\"{metric.capitalize()} is\", len(result))\n"
     ]
    },
    {
     "data": {
      "image/png": "[encoded data removed]",
      "text/plain": [
       "<Figure size 500x400 with 2 Axes>"
      ]
     },
     "metadata": {},
     "output_type": "display_data"
    }
   ],
   "source": [
    "print(f\"Accuracy = {accuracy_score(y_test,responses)}\")\n",
    "print(f\"Precision = {precision_score(y_test,responses,average='weighted')}\")\n",
    "print(f\"Recall = {recall_score(y_test,responses,average='weighted')}\")\n",
    "print(f\"F1 Score = {f1_score(y_test,responses,average='weighted')}\")\n",
    "cm = confusion_matrix(y_test,responses)\n",
    "\n",
    "plt.figure(figsize=(5, 4))\n",
    "sns.heatmap(cm, annot=True, xticklabels=activities, yticklabels=activities, cmap='Blues')\n",
    "plt.title('Confusion Matrix')\n",
    "plt.xlabel('Predicted')\n",
    "plt.ylabel('Actual')\n",
    "plt.show()"
   ]
  },
  {
   "cell_type": "markdown",
   "metadata": {},
   "source": [
    "### Qualitative demonstration of Performance of Zero-Shot vs Few-Shot Learning\n",
    "\n",
    "In Zero-Shot Learning, the model classifies all the activities as standing. While, the Few-Shot Learning model, analyses the input data, and gives an accuracy of about 52%, with correctly classifying all datapoints of walking class and standing class and misclassifying all datapoints of walking_upstairs and walking_downstairs class.<br><br>\n",
    "Therefore, the Few-Shot Learning method performs better than Zero-Shot Learning. The reason for this maybe that as few shot learning is given some examples for classifying and the features for classification, it may be able to identify patterns in the data and calssify them better."
   ]
  },
  {
   "cell_type": "markdown",
   "metadata": {},
   "source": [
    "## Task 3, Question 2"
   ]
  },
  {
   "cell_type": "code",
   "execution_count": 16,
   "metadata": {},
   "outputs": [],
   "source": [
    "x_train_dt = []\n",
    "y_train_dt = []\n",
    "for j in range(6):\n",
    "    index1 = j * 9 \n",
    "    index2 = j*9+2\n",
    "    index3 = j*9 + 4\n",
    "    index4 = j*9 + 6\n",
    "    x_train_dt.append(tsfel_features_train[index1])\n",
    "    y_train_dt.append(y_train[index1])\n",
    "    x_train_dt.append(tsfel_features_train[index2])\n",
    "    y_train_dt.append(y_train[index2])\n",
    "    x_train_dt.append(tsfel_features_train[index3])\n",
    "    y_train_dt.append(y_train[index3])\n",
    "    x_train_dt.append(tsfel_features_train[index4])\n",
    "    y_train_dt.append(y_train[index4])"
   ]
  },
  {
   "cell_type": "code",
   "execution_count": 17,
   "metadata": {},
   "outputs": [],
   "source": [
    "from sklearn.tree import DecisionTreeClassifier"
   ]
  },
  {
   "cell_type": "code",
   "execution_count": 18,
   "metadata": {},
   "outputs": [
    {
     "name": "stdout",
     "output_type": "stream",
     "text": [
      "Accuracy = 0.3333333333333333\n",
      "Precision = 0.22387387387387386\n",
      "Recall = 0.3333333333333333\n",
      "F1 Score = 0.2318840579710145\n"
     ]
    },
    {
     "name": "stderr",
     "output_type": "stream",
     "text": [
      "e:\\ES 335 -  Machine Learning\\es335-24-fall-assignment-1-master\\env\\Lib\\site-packages\\sklearn\\metrics\\_classification.py:1531: UndefinedMetricWarning: Precision is ill-defined and being set to 0.0 in labels with no predicted samples. Use `zero_division` parameter to control this behavior.\n",
      "  _warn_prf(average, modifier, f\"{metric.capitalize()} is\", len(result))\n"
     ]
    },
    {
     "data": {
      "image/png": "[encoded data removed]",
      "text/plain": [
       "<Figure size 500x400 with 2 Axes>"
      ]
     },
     "metadata": {},
     "output_type": "display_data"
    }
   ],
   "source": [
    "tree = DecisionTreeClassifier()\n",
    "tree.fit(x_train_dt, y_train_dt)\n",
    "y_pred = tree.predict(tsfel_features_test)\n",
    "print(f\"Accuracy = {accuracy_score(y_test,y_pred)}\")\n",
    "print(f\"Precision = {precision_score(y_test,y_pred,average='weighted')}\")\n",
    "print(f\"Recall = {recall_score(y_test,y_pred,average='weighted')}\")\n",
    "print(f\"F1 Score = {f1_score(y_test,y_pred,average='weighted')}\")\n",
    "cm = confusion_matrix(y_test,y_pred)\n",
    "\n",
    "plt.figure(figsize=(5, 4))\n",
    "sns.heatmap(cm, annot=True, xticklabels=activities, yticklabels=activities, cmap='Blues')\n",
    "plt.title('Confusion Matrix')\n",
    "plt.xlabel('Predicted')\n",
    "plt.ylabel('Actual')\n",
    "plt.show()"
   ]
  },
  {
   "cell_type": "markdown",
   "metadata": {},
   "source": [
    "With same examples in training and testing, Few-shot learning method performs better than the Decision Tree method with the accuracy of few-shot learning model to be approximately 52% and Decision Tree to be 33%. <br><br>\n",
    "The reason for this may be use of less data for training the decision tree as large data can't be fed to the Few Shot Learning prompt. Moreover, the llm in the few-shot learning is a more complex model than decision tree which can train itself in a better manner on a small dataset also."
   ]
  },
  {
   "cell_type": "markdown",
   "metadata": {},
   "source": [
    "### Task 3, Question 3"
   ]
  },
  {
   "cell_type": "markdown",
   "metadata": {},
   "source": [
    "### Limitations of Zero-Shot and Few-Shot Learning\n",
    "1. Zero-Shot Learning cannot classify the activities correctly as it is not given any context for the situation.  \n",
    "2. Few-Shot Learning requires high-memory prompt for classifying the data with a decent accuracy. Moreover, all the training data cannot be given as prompt also because of memory constraints.\n",
    "3. Few-Shot Learning takes a lot of time for giving response. For instance, the testing of 54 examples took about 16 minutes for training and still giving 52% accuracy.\n",
    "4. Moreover, if the different classes are overlapping slightly, the few-shot method may give wrong answer as in the case of walking_upstairs, walking_downstairs with walking.  "
   ]
  },
  {
   "cell_type": "markdown",
   "metadata": {},
   "source": [
    "### Task 3, Question 4"
   ]
  },
  {
   "cell_type": "code",
   "execution_count": 15,
   "metadata": {},
   "outputs": [],
   "source": [
    "folder = os.path.join('./New Activity Data')\n",
    "data = os.listdir(folder)\n",
    "#data[0]=pd.read_csv(os.path.join(new_data),header=0)\n",
    "new_data=pd.read_csv(os.path.join(folder,data[0]),header=0)[100:600]\n",
    "new_data=new_data[[\"ax (m/s^2)\",\"ay (m/s^2)\",\"az (m/s^2)\"]]"
   ]
  },
  {
   "cell_type": "code",
   "execution_count": 20,
   "metadata": {},
   "outputs": [
    {
     "name": "stdout",
     "output_type": "stream",
     "text": [
      "To predict the activity label, I will first extract the features from the test data and then use the trained model to predict the label.\n",
      "\n",
      "Here are the features extracted from the test data:\n",
      "\n",
      "Features: [1.02453145e+00 1.14491176e-04 4.43494509e-02 5.51130918e-03\n",
      " 2.00000000e+00 1.02253145e+01]\n",
      "\n",
      "Now, based on the trained model, I predict the activity label as:\n",
      "\n",
      "STANDING\n"
     ]
    }
   ],
   "source": [
    "responses = []  # Initialize the list to store responses\n",
    "\n",
    "# Assuming there are 9 examples for each of the 6 activities\n",
    "activity_count = 6\n",
    "examples_per_activity = 1  # Number of examples to take per activity\n",
    "\n",
    "# Constructing the few-shot examples by taking one example from each activity\n",
    "few_shot_examples = \"\"\n",
    "for j in range(activity_count):\n",
    "    index1 = j * 9 \n",
    "    index2 = j*9+2\n",
    "    index3 = j*9 + 4\n",
    "    index4 = j*9 + 6\n",
    "    few_shot_examples += f\"\"\"\n",
    "    Train Example 1:\n",
    "    Features: {tsfel_features_train[index1]}\n",
    "    Label: {y_train[index1]}\n",
    "\n",
    "    Train Example 2:\n",
    "    Features: {tsfel_features_train[index2]}\n",
    "    Label: {y_train[index2]}\n",
    "\n",
    "    Train Example :\n",
    "    Features: {tsfel_features_train[index3]}\n",
    "    Label: {y_train[index3]}\n",
    "\n",
    "    Train Example:\n",
    "    Features: {tsfel_features_train[index4]}\n",
    "    Label: {y_train[index4]}\n",
    "    \"\"\"\n",
    "\n",
    "\n",
    "query = f\"\"\"\n",
    "            * Your response should be a single word representing the activity label (e.g., 'WALKING').\n",
    "            * You are a human activity recognition model.\n",
    "            * Your task is to predict the activity label based on the given featurized time series data.\n",
    "            * Each data point has 6 features: mean, variance, peak-to-peak distance, mean absolute deviation, correlation, and area under the curve.\n",
    "            * The activities can be one of \"LAYING\", \"SITTING\", \"STANDING\", \"WALKING\", \"WALKING_DOWNSTAIRS\", \"WALKING_UPSTAIRS\", or \"JUMPING\".\n",
    "            \n",
    "            \n",
    "            Here are some training examples:\n",
    "            {few_shot_examples}\n",
    "            \n",
    "            Now, given the test data below, predict the activity label:\n",
    "            \n",
    "            Test Data: {new_data}\n",
    "            \"\"\"\n",
    "\n",
    "# Invoke the language model with the query\n",
    "answer = llm.invoke(query)\n",
    "ans = answer.content\n",
    "responses.append(ans)\n",
    "print(ans)\n"
   ]
  },
  {
   "cell_type": "markdown",
   "metadata": {},
   "source": [
    "Therefore, the model is not able to identify the activity and misclassifies it as standing when the activity performed was jumping."
   ]
  },
  {
   "cell_type": "markdown",
   "metadata": {},
   "source": [
    "### Task 3, Question 5"
   ]
  },
  {
   "cell_type": "code",
   "execution_count": 16,
   "metadata": {},
   "outputs": [],
   "source": [
    "from sklearn.preprocessing import StandardScaler"
   ]
  },
  {
   "cell_type": "markdown",
   "metadata": {},
   "source": [
    "mean, variance, peak-to-peak distance, mean absolute deviation, correlation, and area under the curve."
   ]
  },
  {
   "cell_type": "code",
   "execution_count": 22,
   "metadata": {},
   "outputs": [
    {
     "data": {
      "text/plain": [
       "(20, 6)"
      ]
     },
     "execution_count": 22,
     "metadata": {},
     "output_type": "execute_result"
    }
   ],
   "source": [
    "s_mean = StandardScaler()\n",
    "s_var = StandardScaler()\n",
    "s_pkpd = StandardScaler()\n",
    "s_mad = StandardScaler()\n",
    "s_corr = StandardScaler()\n",
    "s_auc = StandardScaler()\n",
    "\n",
    "s_mean.fit_transform(tsfel_features_train[:,0].reshape(-1,1))\n",
    "s_var.fit_transform(tsfel_features_train[:,1].reshape(-1,1))\n",
    "s_pkpd.fit_transform(tsfel_features_train[:,2].reshape(-1,1))\n",
    "s_mad.fit_transform(tsfel_features_train[:,3].reshape(-1,1))\n",
    "s_corr.fit_transform(tsfel_features_train[:,4].reshape(-1,1))\n",
    "s_auc.fit_transform(tsfel_features_train[:,5].reshape(-1,1))\n",
    "\n",
    "fake_data_mean = s_mean.inverse_transform(np.random.random((20,1)))\n",
    "fake_data_var = s_var.inverse_transform(np.random.random((20,1)))\n",
    "fake_data_pkpd = s_pkpd.inverse_transform(np.random.random((20,1)))\n",
    "fake_data_mad = s_mad.inverse_transform(np.random.random((20,1)))\n",
    "fake_data_corr = s_corr.inverse_transform(np.random.random((20,1)))\n",
    "fake_data_auc = s_auc.inverse_transform(np.random.random((20,1)))\n",
    "\n",
    "fake_data = np.concatenate((fake_data_mean,fake_data_var,fake_data_pkpd,fake_data_mad,fake_data_corr,fake_data_auc),axis=1)\n",
    "fake_data.shape\n"
   ]
  },
  {
   "cell_type": "code",
   "execution_count": 23,
   "metadata": {},
   "outputs": [
    {
     "name": "stdout",
     "output_type": "stream",
     "text": [
      "WALKING\n",
      "WALKING\n",
      "WALKING\n",
      "WALKING\n",
      "WALKING\n",
      "WALKING\n",
      "WALKING\n",
      "WALKING\n",
      "WALKING\n",
      "WALKING\n",
      "WALKING\n",
      "WALKING\n",
      "WALKING\n",
      "WALKING\n",
      "WALKING\n",
      "WALKING\n",
      "WALKING\n",
      "WALKING\n",
      "WALKING\n",
      "WALKING\n"
     ]
    }
   ],
   "source": [
    "responses = []  # Initialize the list to store responses\n",
    "\n",
    "# Assuming there are 9 examples for each of the 6 activities\n",
    "activity_count = 6\n",
    "examples_per_activity = 1  # Number of examples to take per activity\n",
    "\n",
    "# Constructing the few-shot examples by taking one example from each activity\n",
    "few_shot_examples = \"\"\n",
    "for j in range(activity_count):\n",
    "    index1 = j * 9 \n",
    "    index2 = j*9+2\n",
    "    index3 = j*9 + 4\n",
    "    index4 = j*9 + 6\n",
    "    few_shot_examples += f\"\"\"\n",
    "    Train Example 1:\n",
    "    Features: {tsfel_features_train[index1]}\n",
    "    Label: {y_train[index1]}\n",
    "\n",
    "    Train Example 2:\n",
    "    Features: {tsfel_features_train[index2]}\n",
    "    Label: {y_train[index2]}\n",
    "\n",
    "    Train Example :\n",
    "    Features: {tsfel_features_train[index3]}\n",
    "    Label: {y_train[index3]}\n",
    "\n",
    "    Train Example:\n",
    "    Features: {tsfel_features_train[index4]}\n",
    "    Label: {y_train[index4]}\n",
    "    \"\"\"\n",
    "\n",
    "# Loop over the test data\n",
    "for i in range(len(fake_data)):\n",
    "    query = f\"\"\"\n",
    "        * Your response should be a single word representing the activity label (e.g., 'WALKING').\n",
    "        * You are a human activity recognition model.\n",
    "        * Your task is to predict the activity label based on the given featurized time series data.\n",
    "        * Each data point has 6 features: mean, variance, peak-to-peak distance, mean absolute deviation, correlation, and area under the curve.\n",
    "        * The activities can be one of \"LAYING\", \"SITTING\", \"STANDING\", \"WALKING\", \"WALKING_DOWNSTAIRS\", or \"WALKING_UPSTAIRS\".\n",
    "        \n",
    "        \n",
    "        Here are some training examples:\n",
    "        {few_shot_examples}\n",
    "        \n",
    "        Now, given the test data below, predict the activity label:\n",
    "        \n",
    "        Test Data (Features): {fake_data[i]}\n",
    "    \"\"\"\n",
    "\n",
    "    # Invoke the language model with the query\n",
    "    answer = llm.invoke(query)\n",
    "    ans = answer.content\n",
    "    responses.append(ans)\n",
    "    print(ans)\n"
   ]
  },
  {
   "cell_type": "markdown",
   "metadata": {},
   "source": [
    "The model classifies all the random data as walking."
   ]
  },
  {
   "cell_type": "markdown",
   "metadata": {},
   "source": [
    "### Task 4, Question 3"
   ]
  },
  {
   "cell_type": "code",
   "execution_count": 17,
   "metadata": {},
   "outputs": [
    {
     "name": "stdout",
     "output_type": "stream",
     "text": [
      "Paras_Laying.csv\n",
      "Paras_Sitting.csv\n",
      "Paras_Standing.csv\n",
      "Paras_Walking.csv\n",
      "Paras_Walking_Downstairs.csv\n",
      "Paras_Walking_Upstairs.csv\n",
      "Praanshu_Laying.csv\n",
      "Praanshu_Sitting.csv\n",
      "Praanshu_Standing.csv\n",
      "Praanshu_Walking.csv\n",
      "Praanshu_Walking_Downstairs.csv\n",
      "Praanshu_Walking_Upstairs.csv\n",
      "Samarth_Laying.csv\n",
      "Samarth_Sitting.csv\n",
      "Samarth_Standing.csv\n",
      "Samarth_Walking.csv\n",
      "Samarth_Walking_Downstairs.csv\n",
      "Samarth_Walking_Upstairs.csv\n"
     ]
    }
   ],
   "source": [
    "recorded_folder_path = os.path.join('./Activity Dataset/')\n",
    "csv_files = os.listdir(recorded_folder_path)\n",
    "X = []\n",
    "y = ['LAYING', 'SITTING', 'STANDING','WALKING','WALKING_DOWNSTAIRS','WALKING_UPSTAIRS'] * 3\n",
    "\n",
    "for csv in csv_files:\n",
    "    print(csv)\n",
    "    df=pd.read_csv(os.path.join(recorded_folder_path, csv),header=0)\n",
    "    X.append(df.values[100:600])\n"
   ]
  },
  {
   "cell_type": "code",
   "execution_count": 18,
   "metadata": {},
   "outputs": [],
   "source": [
    "train_data = os.path.join('./Combined/Train')\n",
    "test_data = os.path.join('./Combined/Test')"
   ]
  },
  {
   "cell_type": "code",
   "execution_count": 19,
   "metadata": {},
   "outputs": [],
   "source": [
    "activities = ['LAYING', 'SITTING', 'STANDING','WALKING','WALKING_DOWNSTAIRS','WALKING_UPSTAIRS']\n",
    "activities_map = {i:activities[i-1] for i in range(1, 7)}"
   ]
  },
  {
   "cell_type": "code",
   "execution_count": 20,
   "metadata": {},
   "outputs": [],
   "source": [
    "x_train=[]\n",
    "y_train=[]\n",
    "x_test=[]\n",
    "y_test=[]\n",
    "for activity in activities:\n",
    "    folder = os.path.join(train_data,activity)\n",
    "    data = os.listdir(folder)\n",
    "    # print(len(data))\n",
    "    for csv in data:\n",
    "        df=pd.read_csv(os.path.join(train_data,activity,csv),header=0)\n",
    "        x_train.append(df.values[:500])\n",
    "        y_train.append(activity)\n",
    "for activity in activities:\n",
    "    folder = os.path.join(test_data,activity)\n",
    "    data = os.listdir(folder)\n",
    "    # print(len(data))\n",
    "    for csv in data:\n",
    "        df=pd.read_csv(os.path.join(test_data,activity,csv),header=0)\n",
    "        x_test.append(df.values[:500])\n",
    "        y_test.append(activity)\n",
    "    "
   ]
  },
  {
   "cell_type": "code",
   "execution_count": 21,
   "metadata": {},
   "outputs": [
    {
     "data": {
      "text/plain": [
       "(500, 3)"
      ]
     },
     "execution_count": 21,
     "metadata": {},
     "output_type": "execute_result"
    }
   ],
   "source": [
    "X[1][:,1:4].shape"
   ]
  },
  {
   "cell_type": "code",
   "execution_count": 23,
   "metadata": {},
   "outputs": [
    {
     "name": "stdout",
     "output_type": "stream",
     "text": [
      "Actual: LAYING Predicted: WALKING_DOWNSTAIRS 1\n",
      "Actual: SITTING Predicted: WALKING_UPSTAIRS 2\n",
      "Actual: STANDING Predicted: LAYING 3\n",
      "Actual: WALKING Predicted: WALKING_UPSTAIRS 4\n",
      "Actual: WALKING_DOWNSTAIRS Predicted: WALKING 5\n",
      "Actual: WALKING_UPSTAIRS Predicted: WALKING_DOWNSTAIRS 6\n",
      "Actual: LAYING Predicted: LAYING 7\n",
      "Actual: SITTING Predicted: STANDING 8\n",
      "Actual: STANDING Predicted: LAYING 9\n",
      "Actual: WALKING Predicted: WALKING_DOWNSTAIRS 10\n",
      "Actual: WALKING_DOWNSTAIRS Predicted: WALKING_UPSTAIRS 11\n",
      "Actual: WALKING_UPSTAIRS Predicted: WALKING_UPSTAIRS 12\n",
      "Actual: LAYING Predicted: WALKING_UPSTAIRS 13\n",
      "Actual: SITTING Predicted: LAYING 14\n",
      "Actual: STANDING Predicted: LAYING 15\n",
      "Actual: WALKING Predicted: WALKING_DOWNSTAIRS 16\n",
      "Actual: WALKING_DOWNSTAIRS Predicted: WALKING_UPSTAIRS 17\n",
      "Actual: WALKING_UPSTAIRS Predicted: WALKING_UPSTAIRS 18\n"
     ]
    }
   ],
   "source": [
    "responses = []  # Initialize the list to store responses\n",
    "\n",
    "activities_per_person = 6  # Number of activities per person\n",
    "\n",
    "few_shot_examples = \"\"\n",
    "for j in range(6):\n",
    "    for i in range(6):\n",
    "        few_shot_examples += f\"\"\"\n",
    "        Train Example:\n",
    "        Data (500 points of acceleration in x,y,z respectively): {x_train[j*21+i]}\n",
    "        Label: {y_train[j*21+i]}\n",
    "        \"\"\"\n",
    "\n",
    "true=0\n",
    "# Loop over the test data\n",
    "for i in range(len(X)):\n",
    "    query = f\"\"\"\n",
    "        * Your response should be a single word representing the activity label (e.g., 'WALKING').\n",
    "        * You are a human activity recognition model.\n",
    "        * Your task is to predict the activity label based on the given featurized time series data.\n",
    "        * The activities can be one of \"LAYING\", \"SITTING\", \"STANDING\", \"WALKING\", \"WALKING_DOWNSTAIRS\", or \"WALKING_UPSTAIRS\".\n",
    "        \n",
    "        Here are some training examples:\n",
    "        {few_shot_examples}\n",
    "        \n",
    "        Now, given the test data below, predict the activity label:\n",
    "        \n",
    "        Test Data (Features): {X[i][:,1:4]}\n",
    "    \"\"\"\n",
    "\n",
    "    # Invoke the language model with the query\n",
    "    answer = llm.invoke(query)\n",
    "    ans = answer.content\n",
    "    responses.append(ans)\n",
    "    print(\"Actual:\", y[i], \"Predicted:\", ans, len(responses))\n",
    "\n",
    "    \n",
    "    if answer.content == y[i]:\n",
    "        true+=1\n"
   ]
  },
  {
   "cell_type": "code",
   "execution_count": 24,
   "metadata": {},
   "outputs": [
    {
     "name": "stdout",
     "output_type": "stream",
     "text": [
      "Accuracy = 16.666666666666664 %\n"
     ]
    }
   ],
   "source": [
    "accuracy = true/len(X)\n",
    "print(f\"Accuracy = {accuracy*100} %\")"
   ]
  },
  {
   "cell_type": "markdown",
   "metadata": {},
   "source": [
    "### Task 4, Question 4"
   ]
  },
  {
   "cell_type": "code",
   "execution_count": 25,
   "metadata": {},
   "outputs": [
    {
     "name": "stdout",
     "output_type": "stream",
     "text": [
      "Actual: LAYING Predicted: LAYING 1\n",
      "Actual: SITTING Predicted: LAYING 2\n",
      "Actual: STANDING Predicted: LAYING 3\n",
      "Actual: WALKING Predicted: WALKING_DOWNSTAIRS 4\n",
      "Actual: WALKING_DOWNSTAIRS Predicted: WALKING_DOWNSTAIRS 5\n",
      "Actual: WALKING_UPSTAIRS Predicted: WALKING 6\n"
     ]
    }
   ],
   "source": [
    "responses = []  # Initialize the list to store responses\n",
    "\n",
    "# Numbber of people \n",
    "true=0\n",
    "train_people_count = 2\n",
    "test_people_count = 1\n",
    "activities_per_person = 6  # Number of activities per person\n",
    "\n",
    "# Constructing the few-shot examples by taking one example from each activity\n",
    "few_shot_examples = \"\"\n",
    "for j in range(activities_per_person*train_people_count):\n",
    "    few_shot_examples += f\"\"\"\n",
    "    Train Example:\n",
    "    Data (500 points of acceleration in x,y,z respectively): {X[j][:,1:4]}\n",
    "    Label: {y_train[j]}\n",
    "    \"\"\"\n",
    "    \n",
    "# Loop over the test data\n",
    "for i in range(test_people_count*activities_per_person):\n",
    "    query = f\"\"\"\n",
    "        * Your response should be a single word representing the activity label (e.g., 'WALKING').\n",
    "        * You are a human activity recognition model.\n",
    "        * Your task is to predict the activity label based on the given featurized time series data.\n",
    "        * The activities can be one of \"LAYING\", \"SITTING\", \"STANDING\", \"WALKING\", \"WALKING_DOWNSTAIRS\", or \"WALKING_UPSTAIRS\".\n",
    "        \n",
    "        Here are some training examples:\n",
    "        {few_shot_examples}\n",
    "        \n",
    "        Now, given the test data below, predict the activity label:\n",
    "        \n",
    "        Test Data (Features): {X[i+activities_per_person*train_people_count][:,1:4]}\n",
    "    \"\"\"\n",
    "\n",
    "    # Invoke the language model with the query\n",
    "    answer = llm.invoke(query)\n",
    "    ans = answer.content\n",
    "    responses.append(ans)\n",
    "    print(\"Actual:\", y[i], \"Predicted:\", ans, len(responses))\n",
    "\n",
    "    if answer.content == y[i]:\n",
    "        true+=1"
   ]
  },
  {
   "cell_type": "code",
   "execution_count": 29,
   "metadata": {},
   "outputs": [
    {
     "name": "stdout",
     "output_type": "stream",
     "text": [
      "Accuracy = 33.33333333333333 %\n"
     ]
    }
   ],
   "source": [
    "accuracy = true/(test_people_count*activities_per_person)\n",
    "print(f\"Accuracy = {accuracy*100} %\")"
   ]
  },
  {
   "cell_type": "code",
   "execution_count": null,
   "metadata": {},
   "outputs": [],
   "source": []
  }
 ],
 "metadata": {
  "kernelspec": {
   "display_name": "Python 3",
   "language": "python",
   "name": "python3"
  },
  "language_info": {
   "codemirror_mode": {
    "name": "ipython",
    "version": 3
   },
   "file_extension": ".py",
   "mimetype": "text/x-python",
   "name": "python",
   "nbconvert_exporter": "python",
   "pygments_lexer": "ipython3",
   "version": "3.12.2"
  }
 },
 "nbformat": 4,
 "nbformat_minor": 2
}
